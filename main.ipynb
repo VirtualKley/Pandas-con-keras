{
 "cells": [
  {
   "cell_type": "code",
   "execution_count": 38,
   "metadata": {},
   "outputs": [],
   "source": [
    "import pandas as pd #Para la lectura de datos\n",
    "import numpy as np #Para colocar los datos en memoria y trabajarlos como matrices\n",
    "import matplotlib.pyplot as plt #Para poder ejecutar graficas "
   ]
  },
  {
   "cell_type": "code",
   "execution_count": 39,
   "metadata": {},
   "outputs": [],
   "source": [
    "from keras.models import Sequential\n",
    "from keras.layers.core import Dense\n",
    "from keras.optimizers import SGD"
   ]
  },
  {
   "cell_type": "code",
   "execution_count": 40,
   "metadata": {},
   "outputs": [
    {
     "name": "stdout",
     "output_type": "stream",
     "text": [
      "    Age  Systolic blood pressure\n",
      "0    39                      144\n",
      "1    45                      138\n",
      "2    47                      145\n",
      "3    65                      162\n",
      "4    46                      142\n",
      "5    67                      170\n",
      "6    42                      124\n",
      "7    67                      158\n",
      "8    56                      154\n",
      "9    64                      162\n",
      "10   56                      150\n",
      "11   59                      140\n",
      "12   34                      110\n",
      "13   42                      128\n",
      "14   48                      130\n",
      "15   45                      135\n",
      "16   17                      114\n",
      "17   20                      116\n",
      "18   19                      124\n",
      "19   36                      136\n",
      "20   50                      142\n",
      "21   39                      120\n",
      "22   21                      120\n",
      "23   44                      160\n",
      "24   53                      158\n",
      "25   63                      144\n",
      "26   29                      130\n",
      "27   25                      125\n",
      "28   69                      175\n"
     ]
    }
   ],
   "source": [
    "datos = pd.read_csv('dataset.csv', sep=\",\", skiprows=32, usecols=[2,3]) #Leer los datos de un csv con pandas\n",
    "print(datos)"
   ]
  },
  {
   "cell_type": "code",
   "execution_count": 41,
   "metadata": {},
   "outputs": [
    {
     "data": {
      "image/png": "[encoded data removed]",
      "text/plain": [
       "<Figure size 432x288 with 1 Axes>"
      ]
     },
     "metadata": {
      "needs_background": "light"
     },
     "output_type": "display_data"
    }
   ],
   "source": [
    "#Graficar los datos para que puedan existir una relacion lineal\n",
    "datos.plot.scatter(x=\"Age\", y=\"Systolic blood pressure\")\n",
    "plt.xlabel(\"Años (Edad)\")\n",
    "plt.ylabel(\"Presion Sanguinea\")\n",
    "plt.show()"
   ]
  },
  {
   "cell_type": "code",
   "execution_count": 42,
   "metadata": {},
   "outputs": [],
   "source": [
    "#Otorgando los datos csv a variables para ser manipuladas\n",
    "x = datos['Age'].values\n",
    "y = datos['Systolic blood pressure'].values"
   ]
  },
  {
   "cell_type": "code",
   "execution_count": 43,
   "metadata": {},
   "outputs": [
    {
     "name": "stdout",
     "output_type": "stream",
     "text": [
      "_________________________________________________________________\n",
      "Layer (type)                 Output Shape              Param #   \n",
      "=================================================================\n",
      "dense_3 (Dense)              (None, 1)                 2         \n",
      "=================================================================\n",
      "Total params: 2\n",
      "Trainable params: 2\n",
      "Non-trainable params: 0\n",
      "_________________________________________________________________\n"
     ]
    }
   ],
   "source": [
    "#Construccion del modelo en keras\n",
    "np.random.seed(2) #Para reproducibilidad del modelo\n",
    "\n",
    "input_dim = 1\n",
    "output_dim = 1\n",
    "modelo = Sequential() #Es un contenedor que se añadiran elementos para poder realizar la regresion lineal o clasificacion de imagenes\n",
    "modelo.add(Dense(output_dim, input_dim=input_dim, activation='linear')) #El modulo dense requiere de parametros como el dato de salida\n",
    "# que dimension tiene en este caso uno solo porque solo se tiene una dimension de salida y se coloca el tipo de activacion que seria\n",
    "#lineal\n",
    "sgd = SGD(lr=0.0004) #El metodo es del descenso por gradiente que es un optimizador del error el cual como atributo se colocara\n",
    "#un learning rate que es la taza de aprendizaje del modelo\n",
    "modelo.compile(loss='mse', optimizer=sgd) #la funcion compile se define el optimizador a usar y tambien se define la funcion\n",
    "#de costo, error o perdida (Error cuadratico medio)\n",
    "modelo.summary() #Se imprime la informacion del modelo\n"
   ]
  },
  {
   "cell_type": "code",
   "execution_count": 44,
   "metadata": {},
   "outputs": [],
   "source": [
    "#Proceso de entrenamiento \n",
    "num_epochs = 40000 #Se define el numero de iteraciones para actualizacion de parametros (epocas)\n",
    "batch_size = x.shape[0] #En cada una de las iteraciones de los 29 datos, cuantos se usaran para calcular w y b\n",
    "#como son pocos datos se pueden ofrecer a la iteracion desde memoria, aqui se coloca la cantidad de datos tendra \n",
    "#los datos de los ejemplos\n",
    "history = modelo.fit(x, y, epochs=num_epochs, batch_size=batch_size, verbose=0)\n",
    "#el verbose se imprime las iteraciones por pantalla"
   ]
  },
  {
   "cell_type": "code",
   "execution_count": 45,
   "metadata": {},
   "outputs": [
    {
     "name": "stdout",
     "output_type": "stream",
     "text": [
      "Parametros: w= 1.0, b= 93.5\n"
     ]
    }
   ],
   "source": [
    "#Visualizar datos del modelo\n",
    "#Impresion de los componente \"w\" y \"b\"\n",
    "#Se extraen las capas del modelo\n",
    "capas = modelo.layers[0]\n",
    "w, b = capas.get_weights() #Se extraen los pesos \n",
    "print('Parametros: w= {:.1f}, b= {:.1f}'.format(w[0][0], b[0]))"
   ]
  },
  {
   "cell_type": "code",
   "execution_count": 46,
   "metadata": {},
   "outputs": [
    {
     "data": {
      "text/plain": [
       "Text(0.5, 1.0, 'Datos con su regresion lineal')"
      ]
     },
     "execution_count": 46,
     "metadata": {},
     "output_type": "execute_result"
    },
    {
     "data": {
      "image/png": "[encoded data removed]",
      "text/plain": [
       "<Figure size 432x288 with 2 Axes>"
      ]
     },
     "metadata": {
      "needs_background": "light"
     },
     "output_type": "display_data"
    }
   ],
   "source": [
    "#Graficamiento de los resultados\n",
    "plt.subplot(1,2,1)\n",
    "plt.plot(history.history[\"loss\"]) #Obtiene los resultado de la perdida \n",
    "plt.xlabel(\"epocas\")\n",
    "plt.ylabel(\"ECM\")\n",
    "plt.title(\"ECM vs EPOCAS\")\n",
    "\n",
    "y_regr = modelo.predict(x)\n",
    "plt.subplot(1,2,2)\n",
    "plt.scatter(x,y)\n",
    "plt.plot(x, modelo.predict(x),'r')\n",
    "plt.xlabel(\"Age\")\n",
    "plt.ylabel(\"Presion Sanguinea\")\n",
    "plt.title(\"Datos con su regresion lineal\")"
   ]
  }
 ],
 "metadata": {
  "kernelspec": {
   "display_name": "Python 3",
   "language": "python",
   "name": "python3"
  },
  "language_info": {
   "codemirror_mode": {
    "name": "ipython",
    "version": 3
   },
   "file_extension": ".py",
   "mimetype": "text/x-python",
   "name": "python",
   "nbconvert_exporter": "python",
   "pygments_lexer": "ipython3",
   "version": "3.6.8"
  }
 },
 "nbformat": 4,
 "nbformat_minor": 2
}
